{
 "cells": [
  {
   "cell_type": "code",
   "execution_count": 1,
   "id": "68baf90c-a74d-4dea-b858-ddffee210ec8",
   "metadata": {},
   "outputs": [],
   "source": [
    "# pip install mlflow"
   ]
  },
  {
   "cell_type": "code",
   "execution_count": 1,
   "id": "47c02e81-25d3-4750-8b49-ece4bac0b7f7",
   "metadata": {},
   "outputs": [
    {
     "name": "stdout",
     "output_type": "stream",
     "text": [
      "MLflow Run completed.\n",
      "MLflow Run ID:  31a66042b2a34464b15f51fcd071f0c3\n"
     ]
    }
   ],
   "source": [
    "import mlflow\n",
    "import mlflow.sklearn\n",
    "from sklearn.ensemble import RandomForestClassifier\n",
    "from sklearn import datasets\n",
    "from sklearn.model_selection import train_test_split\n",
    "from sklearn.metrics import accuracy_score\n",
    "\n",
    "# Connect to the MLflow server\n",
    "mlflow.set_tracking_uri(\"http://mlflow:5000\")  # Make sure this matches your setup\n",
    "\n",
    "# Start an MLflow experiment\n",
    "with mlflow.start_run(run_name=\"my_experiment\"):\n",
    "    # Load data\n",
    "    iris = datasets.load_iris()\n",
    "    X_train, X_test, y_train, y_test = train_test_split(iris.data, iris.target, test_size=0.33, random_state=42)\n",
    "\n",
    "    # Train a model\n",
    "    model = RandomForestClassifier()\n",
    "    model.fit(X_train, y_train)\n",
    "\n",
    "    # Predict and calculate accuracy\n",
    "    predictions = model.predict(X_test)\n",
    "    accuracy = accuracy_score(y_test, predictions)\n",
    "\n",
    "    # Log parameters, metrics, and the model\n",
    "    mlflow.log_param(\"test_size\", 0.33)\n",
    "    mlflow.log_param(\"random_state\", 42)\n",
    "    mlflow.log_metric(\"accuracy\", accuracy)\n",
    "    # mlflow.sklearn.log_model(model, \"model\")\n",
    "\n",
    "    # Print run information\n",
    "    print(\"MLflow Run completed.\")\n",
    "    print(\"MLflow Run ID: \", mlflow.active_run().info.run_id)\n",
    "\n",
    "# Ensure to end the run explicitly if not using 'with'\n",
    "mlflow.end_run()\n"
   ]
  },
  {
   "cell_type": "code",
   "execution_count": null,
   "id": "3a4481b8-5c88-42a2-a0f1-08b457144d13",
   "metadata": {},
   "outputs": [],
   "source": []
  },
  {
   "cell_type": "code",
   "execution_count": null,
   "id": "6b2b9f71-de62-4104-9470-1e564ec8c1e3",
   "metadata": {},
   "outputs": [],
   "source": []
  }
 ],
 "metadata": {
  "kernelspec": {
   "display_name": "Python 3 (ipykernel)",
   "language": "python",
   "name": "python3"
  },
  "language_info": {
   "codemirror_mode": {
    "name": "ipython",
    "version": 3
   },
   "file_extension": ".py",
   "mimetype": "text/x-python",
   "name": "python",
   "nbconvert_exporter": "python",
   "pygments_lexer": "ipython3",
   "version": "3.11.6"
  }
 },
 "nbformat": 4,
 "nbformat_minor": 5
}
